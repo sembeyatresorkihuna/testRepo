{
 "cells": [
  {
   "cell_type": "code",
   "execution_count": 12,
   "id": "26f8eb33-c1f3-4716-8b46-3d4905367765",
   "metadata": {},
   "outputs": [],
   "source": [
    "minutes = 200  #nombre minutes "
   ]
  },
  {
   "cell_type": "markdown",
   "id": "40a5636e-c546-490d-916f-73bfd7c429c2",
   "metadata": {},
   "source": [
    "#convertir en heures les 200 minutes"
   ]
  },
  {
   "cell_type": "code",
   "execution_count": 20,
   "id": "703bb883-b042-42af-8c62-1144c485d6e6",
   "metadata": {},
   "outputs": [],
   "source": [
    "heures = minutes//60"
   ]
  },
  {
   "cell_type": "code",
   "execution_count": 21,
   "id": "d2cd7191-0a8e-4aba-bcbb-cc71649ebd35",
   "metadata": {},
   "outputs": [],
   "source": [
    "minutes_restantes = minutes % 60  #reste minutes restantes"
   ]
  },
  {
   "cell_type": "code",
   "execution_count": 22,
   "id": "08f845f1-5bd2-4ead-bfb4-eda647fc21b1",
   "metadata": {},
   "outputs": [
    {
     "name": "stdout",
     "output_type": "stream",
     "text": [
      "200 minutes = 3 heures et 20 minutes\n"
     ]
    }
   ],
   "source": [
    "print (f\"{minutes} minutes = {heures} heures et {minutes_restantes} minutes\")"
   ]
  },
  {
   "cell_type": "code",
   "execution_count": null,
   "id": "e13f8dfc-8cc1-4ccb-849c-8bcc18e2d5b2",
   "metadata": {},
   "outputs": [],
   "source": []
  }
 ],
 "metadata": {
  "kernelspec": {
   "display_name": "Python 3 (ipykernel)",
   "language": "python",
   "name": "python3"
  },
  "language_info": {
   "codemirror_mode": {
    "name": "ipython",
    "version": 3
   },
   "file_extension": ".py",
   "mimetype": "text/x-python",
   "name": "python",
   "nbconvert_exporter": "python",
   "pygments_lexer": "ipython3",
   "version": "3.12.8"
  }
 },
 "nbformat": 4,
 "nbformat_minor": 5
}
